{
 "cells": [
  {
   "cell_type": "code",
   "execution_count": 35,
   "id": "3147cacb",
   "metadata": {},
   "outputs": [],
   "source": [
    "#importing library\n",
    "from bs4 import BeautifulSoup\n",
    "import requests\n",
    "import re\n",
    "import pandas as pd\n"
   ]
  },
  {
   "cell_type": "code",
   "execution_count": 36,
   "id": "3d407c1a",
   "metadata": {},
   "outputs": [],
   "source": [
    "#uss-feed news network data collection\n",
    "url = \"https://ussfeed.com/\"\n",
    "response = requests.get(url)\n",
    "soup = BeautifulSoup(response.content, 'html.parser')"
   ]
  },
  {
   "cell_type": "code",
   "execution_count": 37,
   "id": "d72260bd",
   "metadata": {},
   "outputs": [
    {
     "name": "stdout",
     "output_type": "stream",
     "text": [
      "<h5 class=\"sc_blogger_item_title entry-title\" data-item-number=\"1\"><a href=\"https://ussfeed.com/kemendikbud-tak-setuju-jika-sistem-zonasi-dianggap-akar-dari-permasalahan-di-ppdb/pop-culture/\" rel=\"bookmark\">Kemendikbud Tak Setuju Jika Sistem Zonasi Dianggap Akar dari Permasalahan di PPDB</a></h5>\n"
     ]
    }
   ],
   "source": [
    "#extracting select information\n",
    "newstitle = soup.select('h5.sc_blogger_item_title.entry-title')\n",
    "print(newstitle[0])\n"
   ]
  },
  {
   "cell_type": "code",
   "execution_count": 38,
   "id": "091a4ecf",
   "metadata": {},
   "outputs": [
    {
     "name": "stdout",
     "output_type": "stream",
     "text": [
      "[<a href=\"https://ussfeed.com/kemendikbud-tak-setuju-jika-sistem-zonasi-dianggap-akar-dari-permasalahan-di-ppdb/pop-culture/\" rel=\"bookmark\">Kemendikbud Tak Setuju Jika Sistem Zonasi Dianggap Akar dari Permasalahan di PPDB</a>, <a href=\"https://ussfeed.com/stanford-university-bakal-bangun-sekolah-di-ikn/pop-culture/\" rel=\"bookmark\">Stanford University Bakal Bangun Sekolah di IKN</a>, <a href=\"https://ussfeed.com/krisis-air-bersih-bekasi-warga-sulit-dapat-pasokan-akibat-tercemar-kalimalang-jadi-solusi/pop-culture/\" rel=\"bookmark\">Krisis Air Bersih Bekasi: Warga Sulit Dapat Pasokan Akibat Tercemar, Kalimalang Jadi Solusi?</a>, <a href=\"https://ussfeed.com/fifa-bakal-berkantor-di-jakarta-untuk-pantau-persiapan-piala-dunia-u-17/pop-culture/\" rel=\"bookmark\">FIFA Bakal Berkantor di Jakarta Untuk Pantau Persiapan Piala Dunia U-17</a>, <a href=\"https://ussfeed.com/uji-emisi-jadi-syarat-perpanjang-stnk-jika-gagal-tidak-bisa-perpanjang-dan-kena-denda/pop-culture/\" rel=\"bookmark\">Uji Emisi Jadi Syarat Perpanjang STNK, Jika Gagal Tidak Bisa Perpanjang dan Kena Denda</a>, <a href=\"https://ussfeed.com/aksi-pencurian-aliran-listrik-untuk-tambang-kripto-berimbas-pada-listrik-warga-depok/pop-culture/\" rel=\"bookmark\">Aksi Pencurian Aliran Listrik untuk Tambang Kripto Berimbas pada Listrik Warga Depok</a>, <a href=\"https://ussfeed.com/olah-sampah-hewan-jadi-listrik-taman-margasatwa-ragunan-hasilkan-234kwh-dalam-sehari/pop-culture/\" rel=\"bookmark\">Olah Sampah Hewan Jadi Listrik, Taman Margasatwa Ragunan Hasilkan 234Kwh Dalam Sehari</a>, <a href=\"https://ussfeed.com/usai-kebakaran-museum-nasional-barang-yang-hangus-mulai-diidentifikasi-dan-periksa-21-saksi/pop-culture/\" rel=\"bookmark\">Usai Kebakaran Museum Nasional, Barang yang Hangus Mulai Diidentifikasi dan 21 Saksi Diperiksa</a>, <a href=\"https://ussfeed.com/virus-nipah-menyebar-di-india-tingkat-kematian-capai-75/editorial/\" rel=\"bookmark\">Virus Nipah Menyebar di India, Tingkat Kematian Capai 75%</a>, <a href=\"https://ussfeed.com/elon-musk-beri-ide-untuk-x-twitter-kenakan-biaya-tiap-kali-diakses-semua-pengguna/technology/\" rel=\"bookmark\">Elon Musk Beri Ide untuk X (Twitter) Kenakan Biaya Tiap Kali Diakses Semua Pengguna</a>, <a href=\"https://ussfeed.com/uji-coba-taksi-terbang-di-ikn-bakal-dilakukan-sebelum-hut-ri-ke-79/pop-culture/\" rel=\"bookmark\">Uji Coba Taksi Terbang di IKN Bakal Dilakukan Sebelum HUT RI Ke-79</a>, <a href=\"https://ussfeed.com/wisata-gunung-bromo-kembali-dibuka-mulai-19-september/pop-culture/\" rel=\"bookmark\">Wisata Gunung Bromo Kembali Dibuka Mulai 19 September</a>, <a href=\"https://ussfeed.com/pengantar-purifikasi-pikir-adalah-pengalaman-ekplorasi-musik-yang-digabung-dengan-lirik-yang-intim/music/\" rel=\"bookmark\">Album Baru Kunto Aji: Pengalaman Ekplorasi Musik yang Dipadukan Lirik yang Intim</a>, <a href=\"https://ussfeed.com/kate-spade-spring-2024-pesona-musim-semi-manhattan/pop-culture/\" rel=\"bookmark\">Kate Spade Spring 2024: Pesona Musim Semi Manhattan</a>, <a href=\"https://ussfeed.com/sandiaga-uno-sebut-muslimah-creative-day-2023-terwujudnya-indonesia-jadi-kiblat-fesyen-dunia/event/\" rel=\"bookmark\">Sandiaga Uno Sebut Muslimah Creative Day 2023, Wujud dari Indonesia Jadi Kiblat Fesyen Dunia</a>, <a href=\"https://ussfeed.com/staf-kantor-pusat-disney-diminta-wfh-usai-dapat-serangan-hama-tikus-dan-kutu/pop-culture/\" rel=\"bookmark\">Staf Kantor Pusat Disney Diminta WFH Usai Dapat Serangan Hama Tikus dan Kutu</a>, <a href=\"https://ussfeed.com/kemendikbud-tak-setuju-jika-sistem-zonasi-dianggap-akar-dari-permasalahan-di-ppdb/pop-culture/\" rel=\"bookmark\">Kemendikbud Tak Setuju Jika Sistem Zonasi Dianggap Akar dari Permasalahan di PPDB</a>, <a href=\"https://ussfeed.com/stanford-university-bakal-bangun-sekolah-di-ikn/pop-culture/\" rel=\"bookmark\">Stanford University Bakal Bangun Sekolah di IKN</a>, <a href=\"https://ussfeed.com/krisis-air-bersih-bekasi-warga-sulit-dapat-pasokan-akibat-tercemar-kalimalang-jadi-solusi/pop-culture/\" rel=\"bookmark\">Krisis Air Bersih Bekasi: Warga Sulit Dapat Pasokan Akibat Tercemar, Kalimalang Jadi Solusi?</a>, <a href=\"https://ussfeed.com/fifa-bakal-berkantor-di-jakarta-untuk-pantau-persiapan-piala-dunia-u-17/pop-culture/\" rel=\"bookmark\">FIFA Bakal Berkantor di Jakarta Untuk Pantau Persiapan Piala Dunia U-17</a>, <a href=\"https://ussfeed.com/uji-emisi-jadi-syarat-perpanjang-stnk-jika-gagal-tidak-bisa-perpanjang-dan-kena-denda/pop-culture/\" rel=\"bookmark\">Uji Emisi Jadi Syarat Perpanjang STNK, Jika Gagal Tidak Bisa Perpanjang dan Kena Denda</a>, <a href=\"https://ussfeed.com/aksi-pencurian-aliran-listrik-untuk-tambang-kripto-berimbas-pada-listrik-warga-depok/pop-culture/\" rel=\"bookmark\">Aksi Pencurian Aliran Listrik untuk Tambang Kripto Berimbas pada Listrik Warga Depok</a>, <a href=\"https://ussfeed.com/olah-sampah-hewan-jadi-listrik-taman-margasatwa-ragunan-hasilkan-234kwh-dalam-sehari/pop-culture/\" rel=\"bookmark\">Olah Sampah Hewan Jadi Listrik, Taman Margasatwa Ragunan Hasilkan 234Kwh Dalam Sehari</a>, <a href=\"https://ussfeed.com/usai-kebakaran-museum-nasional-barang-yang-hangus-mulai-diidentifikasi-dan-periksa-21-saksi/pop-culture/\" rel=\"bookmark\">Usai Kebakaran Museum Nasional, Barang yang Hangus Mulai Diidentifikasi dan 21 Saksi Diperiksa</a>, <a href=\"https://ussfeed.com/uji-coba-taksi-terbang-di-ikn-bakal-dilakukan-sebelum-hut-ri-ke-79/pop-culture/\" rel=\"bookmark\">Uji Coba Taksi Terbang di IKN Bakal Dilakukan Sebelum HUT RI Ke-79</a>, <a href=\"https://ussfeed.com/wisata-gunung-bromo-kembali-dibuka-mulai-19-september/pop-culture/\" rel=\"bookmark\">Wisata Gunung Bromo Kembali Dibuka Mulai 19 September</a>, <a href=\"https://ussfeed.com/kate-spade-spring-2024-pesona-musim-semi-manhattan/pop-culture/\" rel=\"bookmark\">Kate Spade Spring 2024: Pesona Musim Semi Manhattan</a>, <a href=\"https://ussfeed.com/staf-kantor-pusat-disney-diminta-wfh-usai-dapat-serangan-hama-tikus-dan-kutu/pop-culture/\" rel=\"bookmark\">Staf Kantor Pusat Disney Diminta WFH Usai Dapat Serangan Hama Tikus dan Kutu</a>, <a href=\"https://ussfeed.com/kominfo-berencana-tugaskan-ratusan-orang-yang-bakal-dibayar-rp75-juta-untuk-monitoring-hoaks/technology/\" rel=\"bookmark\">Kominfo Berencana Tugaskan Ratusan Orang yang Bakal Dibayar Rp7,5 Juta untuk Monitoring Hoaks</a>, <a href=\"https://ussfeed.com/elon-musk-beri-ide-untuk-x-twitter-kenakan-biaya-tiap-kali-diakses-semua-pengguna/technology/\" rel=\"bookmark\">Elon Musk Beri Ide untuk X (Twitter) Kenakan Biaya Tiap Kali Diakses Semua Pengguna</a>, <a href=\"https://ussfeed.com/pengantar-purifikasi-pikir-adalah-pengalaman-ekplorasi-musik-yang-digabung-dengan-lirik-yang-intim/music/\" rel=\"bookmark\">Album Baru Kunto Aji: Pengalaman Ekplorasi Musik yang Dipadukan Lirik yang Intim</a>, <a href=\"https://ussfeed.com/instagram-uji-coba-fitur-close-friend-pada-feed-kontrol-lebih-untuk-pengguna/technology/\" rel=\"bookmark\">Instagram Uji Coba Fitur ‘Close Friend’ pada Feed, Kontrol Lebih untuk Pengguna?</a>, <a href=\"https://ussfeed.com/penampilan-yang-bawakan-unsur-tradisional-blackpink-sukses-guncang-coachella-2023/music/\" rel=\"bookmark\">Penampilan yang Bawakan Unsur Tradisional, BLACKPINK Sukses Guncang Coachella 2023</a>, <a href=\"https://ussfeed.com/bettergoods-luncurkan-koleksi-spring-summer-2023-versatile-yang-bertajuk-in-a-moment/fashion/\" rel=\"bookmark\">Bettergoods Luncurkan Koleksi Spring/Summer 2023 Versatile yang Bertajuk ‘In a Moment’</a>, <a href=\"https://ussfeed.com/sambut-anniversary-ke-45-hai-berkolaborasi-dengan-w-essentiels-dan-luncurkan-koleksi-borderless-youth/fashion/\" rel=\"bookmark\">Sambut Anniversary ke-45, HAI Berkolaborasi dengan W.ESSENTIÈLS dan Luncurkan Koleksi ‘Borderless Youth’</a>, <a href=\"https://ussfeed.com/rilisan-eksklusif-sonderlab-dan-omo-yang-terinspirasi-dari-trompe-loeil/fashion/\" rel=\"bookmark\">Rilisan Eksklusif Sonderlab dan OMO yang Terinspirasi dari Trompe l’oeil</a>, <a href=\"https://ussfeed.com/gucci-dan-kering-group-jatuhkan-pilihan-pada-sabato-de-sarno-sebagai-creative-director-yang-baru/fashion/\" rel=\"bookmark\">Gucci dan Kering Group Jatuhkan Pilihan pada Sabato De Sarno sebagai Creative Director yang Baru</a>, <a href=\"https://ussfeed.com/curved-perkenalkan-diri-dengan-energi-y2k/fashion/\" rel=\"bookmark\">Curved Perkenalkan Diri dengan Energi Y2K</a>, <a href=\"https://ussfeed.com/store-terbaru-atmos-hadirkan-otaku-room-yang-jadi-satu-satunya-di-indonesia/pop-culture/\" rel=\"bookmark\">Store Terbaru atmos Hadirkan ‘Otaku Room’ yang Jadi Satu-satunya di Indonesia</a>]\n"
     ]
    }
   ],
   "source": [
    "text = soup.select('h5 a')\n",
    "print(text)"
   ]
  },
  {
   "cell_type": "code",
   "execution_count": 51,
   "id": "65ca568f",
   "metadata": {},
   "outputs": [
    {
     "name": "stdout",
     "output_type": "stream",
     "text": [
      "https://ussfeed.com/kemendikbud-tak-setuju-jika-sistem-zonasi-dianggap-akar-dari-permasalahan-di-ppdb/pop-culture/\n"
     ]
    }
   ],
   "source": [
    "links=[]\n",
    "for a in soup.select('h5 a'):\n",
    "  links.append(a.attrs.get('href'))\n",
    "\n",
    "print(links[0])\n"
   ]
  },
  {
   "cell_type": "code",
   "execution_count": 40,
   "id": "eae7d44d",
   "metadata": {},
   "outputs": [
    {
     "name": "stdout",
     "output_type": "stream",
     "text": [
      "['Kemendikbud Tak Setuju Jika Sistem Zonasi Dianggap Akar dari Permasalahan di PPDB', 'Stanford University Bakal Bangun Sekolah di IKN', 'Krisis Air Bersih Bekasi: Warga Sulit Dapat Pasokan Akibat Tercemar, Kalimalang Jadi Solusi?', 'FIFA Bakal Berkantor di Jakarta Untuk Pantau Persiapan Piala Dunia U-17', 'Uji Emisi Jadi Syarat Perpanjang STNK, Jika Gagal Tidak Bisa Perpanjang dan Kena Denda', 'Aksi Pencurian Aliran Listrik untuk Tambang Kripto Berimbas pada Listrik Warga Depok', 'Olah Sampah Hewan Jadi Listrik, Taman Margasatwa Ragunan Hasilkan 234Kwh Dalam Sehari', 'Usai Kebakaran Museum Nasional, Barang yang Hangus Mulai Diidentifikasi dan 21 Saksi Diperiksa', 'Virus Nipah Menyebar di India, Tingkat Kematian Capai 75%', 'Elon Musk Beri Ide untuk X (Twitter) Kenakan Biaya Tiap Kali Diakses Semua Pengguna', 'Uji Coba Taksi Terbang di IKN Bakal Dilakukan Sebelum HUT RI Ke-79', 'Wisata Gunung Bromo Kembali Dibuka Mulai 19 September', 'Album Baru Kunto Aji: Pengalaman Ekplorasi Musik yang Dipadukan Lirik yang Intim', 'Kate Spade Spring 2024: Pesona Musim Semi Manhattan', 'Sandiaga Uno Sebut Muslimah Creative Day 2023, Wujud dari Indonesia Jadi Kiblat Fesyen Dunia', 'Staf Kantor Pusat Disney Diminta WFH Usai Dapat Serangan Hama Tikus dan Kutu', 'Kemendikbud Tak Setuju Jika Sistem Zonasi Dianggap Akar dari Permasalahan di PPDB', 'Stanford University Bakal Bangun Sekolah di IKN', 'Krisis Air Bersih Bekasi: Warga Sulit Dapat Pasokan Akibat Tercemar, Kalimalang Jadi Solusi?', 'FIFA Bakal Berkantor di Jakarta Untuk Pantau Persiapan Piala Dunia U-17', 'Uji Emisi Jadi Syarat Perpanjang STNK, Jika Gagal Tidak Bisa Perpanjang dan Kena Denda', 'Aksi Pencurian Aliran Listrik untuk Tambang Kripto Berimbas pada Listrik Warga Depok', 'Olah Sampah Hewan Jadi Listrik, Taman Margasatwa Ragunan Hasilkan 234Kwh Dalam Sehari', 'Usai Kebakaran Museum Nasional, Barang yang Hangus Mulai Diidentifikasi dan 21 Saksi Diperiksa', 'Uji Coba Taksi Terbang di IKN Bakal Dilakukan Sebelum HUT RI Ke-79', 'Wisata Gunung Bromo Kembali Dibuka Mulai 19 September', 'Kate Spade Spring 2024: Pesona Musim Semi Manhattan', 'Staf Kantor Pusat Disney Diminta WFH Usai Dapat Serangan Hama Tikus dan Kutu', 'Kominfo Berencana Tugaskan Ratusan Orang yang Bakal Dibayar Rp7,5 Juta untuk Monitoring Hoaks', 'Elon Musk Beri Ide untuk X (Twitter) Kenakan Biaya Tiap Kali Diakses Semua Pengguna', 'Album Baru Kunto Aji: Pengalaman Ekplorasi Musik yang Dipadukan Lirik yang Intim', 'Instagram Uji Coba Fitur ‘Close Friend’ pada Feed, Kontrol Lebih untuk Pengguna?', 'Penampilan yang Bawakan Unsur Tradisional, BLACKPINK Sukses Guncang Coachella 2023', 'Bettergoods Luncurkan Koleksi Spring/Summer 2023 Versatile yang Bertajuk ‘In a Moment’', 'Sambut Anniversary ke-45, HAI Berkolaborasi dengan W.ESSENTIÈLS dan Luncurkan Koleksi ‘Borderless Youth’', 'Rilisan Eksklusif Sonderlab dan OMO yang Terinspirasi dari Trompe l’oeil', 'Gucci dan Kering Group Jatuhkan Pilihan pada Sabato De Sarno sebagai Creative Director yang Baru', 'Curved Perkenalkan Diri dengan Energi Y2K', 'Store Terbaru atmos Hadirkan ‘Otaku Room’ yang Jadi Satu-satunya di Indonesia']\n",
      "['https://ussfeed.com/kemendikbud-tak-setuju-jika-sistem-zonasi-dianggap-akar-dari-permasalahan-di-ppdb/pop-culture/', 'https://ussfeed.com/stanford-university-bakal-bangun-sekolah-di-ikn/pop-culture/', 'https://ussfeed.com/krisis-air-bersih-bekasi-warga-sulit-dapat-pasokan-akibat-tercemar-kalimalang-jadi-solusi/pop-culture/', 'https://ussfeed.com/fifa-bakal-berkantor-di-jakarta-untuk-pantau-persiapan-piala-dunia-u-17/pop-culture/', 'https://ussfeed.com/uji-emisi-jadi-syarat-perpanjang-stnk-jika-gagal-tidak-bisa-perpanjang-dan-kena-denda/pop-culture/', 'https://ussfeed.com/aksi-pencurian-aliran-listrik-untuk-tambang-kripto-berimbas-pada-listrik-warga-depok/pop-culture/', 'https://ussfeed.com/olah-sampah-hewan-jadi-listrik-taman-margasatwa-ragunan-hasilkan-234kwh-dalam-sehari/pop-culture/', 'https://ussfeed.com/usai-kebakaran-museum-nasional-barang-yang-hangus-mulai-diidentifikasi-dan-periksa-21-saksi/pop-culture/', 'https://ussfeed.com/virus-nipah-menyebar-di-india-tingkat-kematian-capai-75/editorial/', 'https://ussfeed.com/elon-musk-beri-ide-untuk-x-twitter-kenakan-biaya-tiap-kali-diakses-semua-pengguna/technology/', 'https://ussfeed.com/uji-coba-taksi-terbang-di-ikn-bakal-dilakukan-sebelum-hut-ri-ke-79/pop-culture/', 'https://ussfeed.com/wisata-gunung-bromo-kembali-dibuka-mulai-19-september/pop-culture/', 'https://ussfeed.com/pengantar-purifikasi-pikir-adalah-pengalaman-ekplorasi-musik-yang-digabung-dengan-lirik-yang-intim/music/', 'https://ussfeed.com/kate-spade-spring-2024-pesona-musim-semi-manhattan/pop-culture/', 'https://ussfeed.com/sandiaga-uno-sebut-muslimah-creative-day-2023-terwujudnya-indonesia-jadi-kiblat-fesyen-dunia/event/', 'https://ussfeed.com/staf-kantor-pusat-disney-diminta-wfh-usai-dapat-serangan-hama-tikus-dan-kutu/pop-culture/', 'https://ussfeed.com/kemendikbud-tak-setuju-jika-sistem-zonasi-dianggap-akar-dari-permasalahan-di-ppdb/pop-culture/', 'https://ussfeed.com/stanford-university-bakal-bangun-sekolah-di-ikn/pop-culture/', 'https://ussfeed.com/krisis-air-bersih-bekasi-warga-sulit-dapat-pasokan-akibat-tercemar-kalimalang-jadi-solusi/pop-culture/', 'https://ussfeed.com/fifa-bakal-berkantor-di-jakarta-untuk-pantau-persiapan-piala-dunia-u-17/pop-culture/', 'https://ussfeed.com/uji-emisi-jadi-syarat-perpanjang-stnk-jika-gagal-tidak-bisa-perpanjang-dan-kena-denda/pop-culture/', 'https://ussfeed.com/aksi-pencurian-aliran-listrik-untuk-tambang-kripto-berimbas-pada-listrik-warga-depok/pop-culture/', 'https://ussfeed.com/olah-sampah-hewan-jadi-listrik-taman-margasatwa-ragunan-hasilkan-234kwh-dalam-sehari/pop-culture/', 'https://ussfeed.com/usai-kebakaran-museum-nasional-barang-yang-hangus-mulai-diidentifikasi-dan-periksa-21-saksi/pop-culture/', 'https://ussfeed.com/uji-coba-taksi-terbang-di-ikn-bakal-dilakukan-sebelum-hut-ri-ke-79/pop-culture/', 'https://ussfeed.com/wisata-gunung-bromo-kembali-dibuka-mulai-19-september/pop-culture/', 'https://ussfeed.com/kate-spade-spring-2024-pesona-musim-semi-manhattan/pop-culture/', 'https://ussfeed.com/staf-kantor-pusat-disney-diminta-wfh-usai-dapat-serangan-hama-tikus-dan-kutu/pop-culture/', 'https://ussfeed.com/kominfo-berencana-tugaskan-ratusan-orang-yang-bakal-dibayar-rp75-juta-untuk-monitoring-hoaks/technology/', 'https://ussfeed.com/elon-musk-beri-ide-untuk-x-twitter-kenakan-biaya-tiap-kali-diakses-semua-pengguna/technology/', 'https://ussfeed.com/pengantar-purifikasi-pikir-adalah-pengalaman-ekplorasi-musik-yang-digabung-dengan-lirik-yang-intim/music/', 'https://ussfeed.com/instagram-uji-coba-fitur-close-friend-pada-feed-kontrol-lebih-untuk-pengguna/technology/', 'https://ussfeed.com/penampilan-yang-bawakan-unsur-tradisional-blackpink-sukses-guncang-coachella-2023/music/', 'https://ussfeed.com/bettergoods-luncurkan-koleksi-spring-summer-2023-versatile-yang-bertajuk-in-a-moment/fashion/', 'https://ussfeed.com/sambut-anniversary-ke-45-hai-berkolaborasi-dengan-w-essentiels-dan-luncurkan-koleksi-borderless-youth/fashion/', 'https://ussfeed.com/rilisan-eksklusif-sonderlab-dan-omo-yang-terinspirasi-dari-trompe-loeil/fashion/', 'https://ussfeed.com/gucci-dan-kering-group-jatuhkan-pilihan-pada-sabato-de-sarno-sebagai-creative-director-yang-baru/fashion/', 'https://ussfeed.com/curved-perkenalkan-diri-dengan-energi-y2k/fashion/', 'https://ussfeed.com/store-terbaru-atmos-hadirkan-otaku-room-yang-jadi-satu-satunya-di-indonesia/pop-culture/']\n"
     ]
    }
   ],
   "source": [
    "article_title=[]\n",
    "links=[]\n",
    "\n",
    "for t in soup.select('h5.sc_blogger_item_title.entry-title a'):\n",
    "  article_title.append(t.get_text())\n",
    "  links.append(t.attrs.get('href'))\n",
    "\n",
    "print(article_title)\n",
    "print(links)"
   ]
  },
  {
   "cell_type": "code",
   "execution_count": 49,
   "id": "87720db4",
   "metadata": {},
   "outputs": [
    {
     "name": "stdout",
     "output_type": "stream",
     "text": [
      "Wiena Vedasari\n",
      "19\n"
     ]
    }
   ],
   "source": [
    "authorname = []\n",
    "for a in soup.select('span.post_author_name'):\n",
    "    authorname.append(a.get_text())\n",
    "    \n",
    "    \n",
    "print(authorname[0])\n",
    "print(len(authorname))"
   ]
  },
  {
   "cell_type": "code",
   "execution_count": 65,
   "id": "684d1ff7",
   "metadata": {},
   "outputs": [
    {
     "name": "stdout",
     "output_type": "stream",
     "text": [
      "--\n",
      "['Wiena Vedasari', 'Risma Azhari', 'Risma Azhari', 'Stanley Joewono', 'Risma Azhari', 'Stanley Joewono', 'Stanley Joewono', 'Risma Azhari', 'Stanley Joewono', 'Risma Azhari', 'Wiena Vedasari', 'Risma Azhari', 'Stanley Joewono', 'Stanley Joewono', 'Risma Azhari', 'Stanley Joewono', 'Risma Azhari', 'Risma Azhari', 'Kevin Andreas']\n"
     ]
    }
   ],
   "source": [
    "element = a.find('span', class_='span.post_author_name')\n",
    "\n",
    "if element:\n",
    "    authorname.append(element.text)\n",
    "else:\n",
    "    print('--')\n",
    "    \n",
    "print(authorname)"
   ]
  },
  {
   "cell_type": "code",
   "execution_count": 66,
   "id": "e13e55b2",
   "metadata": {},
   "outputs": [
    {
     "ename": "ValueError",
     "evalue": "All arrays must be of the same length",
     "output_type": "error",
     "traceback": [
      "\u001b[0;31m---------------------------------------------------------------------------\u001b[0m",
      "\u001b[0;31mValueError\u001b[0m                                Traceback (most recent call last)",
      "Input \u001b[0;32mIn [66]\u001b[0m, in \u001b[0;36m<cell line: 1>\u001b[0;34m()\u001b[0m\n\u001b[0;32m----> 1\u001b[0m df \u001b[38;5;241m=\u001b[39m \u001b[43mpd\u001b[49m\u001b[38;5;241;43m.\u001b[39;49m\u001b[43mDataFrame\u001b[49m\u001b[43m(\u001b[49m\n\u001b[1;32m      2\u001b[0m \u001b[43m    \u001b[49m\u001b[43m{\u001b[49m\u001b[38;5;124;43m'\u001b[39;49m\u001b[38;5;124;43marticle title\u001b[39;49m\u001b[38;5;124;43m'\u001b[39;49m\u001b[43m:\u001b[49m\u001b[43m \u001b[49m\u001b[43marticle_title\u001b[49m\u001b[43m,\u001b[49m\u001b[43m \u001b[49m\u001b[38;5;124;43m'\u001b[39;49m\u001b[38;5;124;43mlink\u001b[39;49m\u001b[38;5;124;43m'\u001b[39;49m\u001b[43m:\u001b[49m\u001b[43m \u001b[49m\u001b[43mlinks\u001b[49m\u001b[43m,\u001b[49m\u001b[43m \u001b[49m\u001b[38;5;124;43m'\u001b[39;49m\u001b[38;5;124;43mauthor name\u001b[39;49m\u001b[38;5;124;43m'\u001b[39;49m\u001b[43m:\u001b[49m\u001b[43m \u001b[49m\u001b[43mauthorname\u001b[49m\u001b[43m}\u001b[49m\n\u001b[1;32m      3\u001b[0m \u001b[43m    \u001b[49m\u001b[43m)\u001b[49m\n\u001b[1;32m      5\u001b[0m \u001b[38;5;28mprint\u001b[39m (df\u001b[38;5;241m.\u001b[39mhead())\n\u001b[1;32m      7\u001b[0m df\u001b[38;5;241m.\u001b[39mto_csv(\u001b[38;5;124m'\u001b[39m\u001b[38;5;124muss.csv\u001b[39m\u001b[38;5;124m'\u001b[39m, index\u001b[38;5;241m=\u001b[39m\u001b[38;5;28;01mFalse\u001b[39;00m)\n",
      "File \u001b[0;32m~/opt/anaconda3/lib/python3.9/site-packages/pandas/core/frame.py:636\u001b[0m, in \u001b[0;36mDataFrame.__init__\u001b[0;34m(self, data, index, columns, dtype, copy)\u001b[0m\n\u001b[1;32m    630\u001b[0m     mgr \u001b[38;5;241m=\u001b[39m \u001b[38;5;28mself\u001b[39m\u001b[38;5;241m.\u001b[39m_init_mgr(\n\u001b[1;32m    631\u001b[0m         data, axes\u001b[38;5;241m=\u001b[39m{\u001b[38;5;124m\"\u001b[39m\u001b[38;5;124mindex\u001b[39m\u001b[38;5;124m\"\u001b[39m: index, \u001b[38;5;124m\"\u001b[39m\u001b[38;5;124mcolumns\u001b[39m\u001b[38;5;124m\"\u001b[39m: columns}, dtype\u001b[38;5;241m=\u001b[39mdtype, copy\u001b[38;5;241m=\u001b[39mcopy\n\u001b[1;32m    632\u001b[0m     )\n\u001b[1;32m    634\u001b[0m \u001b[38;5;28;01melif\u001b[39;00m \u001b[38;5;28misinstance\u001b[39m(data, \u001b[38;5;28mdict\u001b[39m):\n\u001b[1;32m    635\u001b[0m     \u001b[38;5;66;03m# GH#38939 de facto copy defaults to False only in non-dict cases\u001b[39;00m\n\u001b[0;32m--> 636\u001b[0m     mgr \u001b[38;5;241m=\u001b[39m \u001b[43mdict_to_mgr\u001b[49m\u001b[43m(\u001b[49m\u001b[43mdata\u001b[49m\u001b[43m,\u001b[49m\u001b[43m \u001b[49m\u001b[43mindex\u001b[49m\u001b[43m,\u001b[49m\u001b[43m \u001b[49m\u001b[43mcolumns\u001b[49m\u001b[43m,\u001b[49m\u001b[43m \u001b[49m\u001b[43mdtype\u001b[49m\u001b[38;5;241;43m=\u001b[39;49m\u001b[43mdtype\u001b[49m\u001b[43m,\u001b[49m\u001b[43m \u001b[49m\u001b[43mcopy\u001b[49m\u001b[38;5;241;43m=\u001b[39;49m\u001b[43mcopy\u001b[49m\u001b[43m,\u001b[49m\u001b[43m \u001b[49m\u001b[43mtyp\u001b[49m\u001b[38;5;241;43m=\u001b[39;49m\u001b[43mmanager\u001b[49m\u001b[43m)\u001b[49m\n\u001b[1;32m    637\u001b[0m \u001b[38;5;28;01melif\u001b[39;00m \u001b[38;5;28misinstance\u001b[39m(data, ma\u001b[38;5;241m.\u001b[39mMaskedArray):\n\u001b[1;32m    638\u001b[0m     \u001b[38;5;28;01mimport\u001b[39;00m \u001b[38;5;21;01mnumpy\u001b[39;00m\u001b[38;5;21;01m.\u001b[39;00m\u001b[38;5;21;01mma\u001b[39;00m\u001b[38;5;21;01m.\u001b[39;00m\u001b[38;5;21;01mmrecords\u001b[39;00m \u001b[38;5;28;01mas\u001b[39;00m \u001b[38;5;21;01mmrecords\u001b[39;00m\n",
      "File \u001b[0;32m~/opt/anaconda3/lib/python3.9/site-packages/pandas/core/internals/construction.py:502\u001b[0m, in \u001b[0;36mdict_to_mgr\u001b[0;34m(data, index, columns, dtype, typ, copy)\u001b[0m\n\u001b[1;32m    494\u001b[0m     arrays \u001b[38;5;241m=\u001b[39m [\n\u001b[1;32m    495\u001b[0m         x\n\u001b[1;32m    496\u001b[0m         \u001b[38;5;28;01mif\u001b[39;00m \u001b[38;5;129;01mnot\u001b[39;00m \u001b[38;5;28mhasattr\u001b[39m(x, \u001b[38;5;124m\"\u001b[39m\u001b[38;5;124mdtype\u001b[39m\u001b[38;5;124m\"\u001b[39m) \u001b[38;5;129;01mor\u001b[39;00m \u001b[38;5;129;01mnot\u001b[39;00m \u001b[38;5;28misinstance\u001b[39m(x\u001b[38;5;241m.\u001b[39mdtype, ExtensionDtype)\n\u001b[1;32m    497\u001b[0m         \u001b[38;5;28;01melse\u001b[39;00m x\u001b[38;5;241m.\u001b[39mcopy()\n\u001b[1;32m    498\u001b[0m         \u001b[38;5;28;01mfor\u001b[39;00m x \u001b[38;5;129;01min\u001b[39;00m arrays\n\u001b[1;32m    499\u001b[0m     ]\n\u001b[1;32m    500\u001b[0m     \u001b[38;5;66;03m# TODO: can we get rid of the dt64tz special case above?\u001b[39;00m\n\u001b[0;32m--> 502\u001b[0m \u001b[38;5;28;01mreturn\u001b[39;00m \u001b[43marrays_to_mgr\u001b[49m\u001b[43m(\u001b[49m\u001b[43marrays\u001b[49m\u001b[43m,\u001b[49m\u001b[43m \u001b[49m\u001b[43mcolumns\u001b[49m\u001b[43m,\u001b[49m\u001b[43m \u001b[49m\u001b[43mindex\u001b[49m\u001b[43m,\u001b[49m\u001b[43m \u001b[49m\u001b[43mdtype\u001b[49m\u001b[38;5;241;43m=\u001b[39;49m\u001b[43mdtype\u001b[49m\u001b[43m,\u001b[49m\u001b[43m \u001b[49m\u001b[43mtyp\u001b[49m\u001b[38;5;241;43m=\u001b[39;49m\u001b[43mtyp\u001b[49m\u001b[43m,\u001b[49m\u001b[43m \u001b[49m\u001b[43mconsolidate\u001b[49m\u001b[38;5;241;43m=\u001b[39;49m\u001b[43mcopy\u001b[49m\u001b[43m)\u001b[49m\n",
      "File \u001b[0;32m~/opt/anaconda3/lib/python3.9/site-packages/pandas/core/internals/construction.py:120\u001b[0m, in \u001b[0;36marrays_to_mgr\u001b[0;34m(arrays, columns, index, dtype, verify_integrity, typ, consolidate)\u001b[0m\n\u001b[1;32m    117\u001b[0m \u001b[38;5;28;01mif\u001b[39;00m verify_integrity:\n\u001b[1;32m    118\u001b[0m     \u001b[38;5;66;03m# figure out the index, if necessary\u001b[39;00m\n\u001b[1;32m    119\u001b[0m     \u001b[38;5;28;01mif\u001b[39;00m index \u001b[38;5;129;01mis\u001b[39;00m \u001b[38;5;28;01mNone\u001b[39;00m:\n\u001b[0;32m--> 120\u001b[0m         index \u001b[38;5;241m=\u001b[39m \u001b[43m_extract_index\u001b[49m\u001b[43m(\u001b[49m\u001b[43marrays\u001b[49m\u001b[43m)\u001b[49m\n\u001b[1;32m    121\u001b[0m     \u001b[38;5;28;01melse\u001b[39;00m:\n\u001b[1;32m    122\u001b[0m         index \u001b[38;5;241m=\u001b[39m ensure_index(index)\n",
      "File \u001b[0;32m~/opt/anaconda3/lib/python3.9/site-packages/pandas/core/internals/construction.py:674\u001b[0m, in \u001b[0;36m_extract_index\u001b[0;34m(data)\u001b[0m\n\u001b[1;32m    672\u001b[0m lengths \u001b[38;5;241m=\u001b[39m \u001b[38;5;28mlist\u001b[39m(\u001b[38;5;28mset\u001b[39m(raw_lengths))\n\u001b[1;32m    673\u001b[0m \u001b[38;5;28;01mif\u001b[39;00m \u001b[38;5;28mlen\u001b[39m(lengths) \u001b[38;5;241m>\u001b[39m \u001b[38;5;241m1\u001b[39m:\n\u001b[0;32m--> 674\u001b[0m     \u001b[38;5;28;01mraise\u001b[39;00m \u001b[38;5;167;01mValueError\u001b[39;00m(\u001b[38;5;124m\"\u001b[39m\u001b[38;5;124mAll arrays must be of the same length\u001b[39m\u001b[38;5;124m\"\u001b[39m)\n\u001b[1;32m    676\u001b[0m \u001b[38;5;28;01mif\u001b[39;00m have_dicts:\n\u001b[1;32m    677\u001b[0m     \u001b[38;5;28;01mraise\u001b[39;00m \u001b[38;5;167;01mValueError\u001b[39;00m(\n\u001b[1;32m    678\u001b[0m         \u001b[38;5;124m\"\u001b[39m\u001b[38;5;124mMixing dicts with non-Series may lead to ambiguous ordering.\u001b[39m\u001b[38;5;124m\"\u001b[39m\n\u001b[1;32m    679\u001b[0m     )\n",
      "\u001b[0;31mValueError\u001b[0m: All arrays must be of the same length"
     ]
    }
   ],
   "source": [
    "df = pd.DataFrame(\n",
    "    {'article title': article_title, 'link': links, 'author name': authorname}\n",
    "    )\n",
    "\n",
    "print (df.head())\n",
    "\n",
    "df.to_csv('uss.csv', index=False)\n"
   ]
  }
 ],
 "metadata": {
  "kernelspec": {
   "display_name": "Python 3 (ipykernel)",
   "language": "python",
   "name": "python3"
  },
  "language_info": {
   "codemirror_mode": {
    "name": "ipython",
    "version": 3
   },
   "file_extension": ".py",
   "mimetype": "text/x-python",
   "name": "python",
   "nbconvert_exporter": "python",
   "pygments_lexer": "ipython3",
   "version": "3.9.12"
  }
 },
 "nbformat": 4,
 "nbformat_minor": 5
}
